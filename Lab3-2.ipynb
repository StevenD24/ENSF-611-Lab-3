{
 "cells": [
  {
   "cell_type": "markdown",
   "id": "87fee377",
   "metadata": {},
   "source": [
    "# Lab 3 - Part 2: PCA and Clustering (12 marks)\n",
    "### Due Date: Monday, March 13 at 12pm\n",
    "\n",
    "Author: *Steven Duong (30022492)*"
   ]
  },
  {
   "cell_type": "markdown",
   "id": "ba7f05d0",
   "metadata": {},
   "source": [
    "The purpose of this portion of the assignment is to practice using PCA and clustering techniques on a given dataset"
   ]
  },
  {
   "cell_type": "code",
   "execution_count": 3,
   "id": "be4299ae",
   "metadata": {},
   "outputs": [],
   "source": [
    "import numpy as np\n",
    "import pandas as pd"
   ]
  },
  {
   "cell_type": "markdown",
   "id": "18a83b6f",
   "metadata": {},
   "source": [
    "## 0. Function definitions (2 marks)"
   ]
  },
  {
   "cell_type": "code",
   "execution_count": 4,
   "id": "13d602f2",
   "metadata": {},
   "outputs": [],
   "source": [
    "from sklearn.cluster import KMeans\n",
    "from sklearn.decomposition import PCA\n",
    "from sklearn.metrics import silhouette_score\n",
    "\n",
    "def cluster_fn(n_clusters, X, n_components=0):\n",
    "    '''Calculate silhouette score for a given dataset, number of clusters, \n",
    "       and number of principle components using KMeans clustering (random_state=0)\n",
    "        \n",
    "        n_clusters (int): number of clusters to use for KMeans\n",
    "        X (numpy.array or pandas.DataFrame): unlabelled dataset\n",
    "        n_components (int): number of principle components (optional)\n",
    "        \n",
    "        returns: silhouette score\n",
    "    \n",
    "    '''\n",
    "    # Apply PCA if number of components is specified\n",
    "    if n_components > 0:\n",
    "        pca = PCA(n_components=n_components)\n",
    "        X = pca.fit_transform(X)\n",
    "    \n",
    "    # Apply KMeans clustering and calculate silhouette score\n",
    "    kmeans = KMeans(n_clusters=n_clusters, random_state=0)\n",
    "    cluster_labels = kmeans.fit_predict(X)\n",
    "    silhouette_avg = silhouette_score(X, cluster_labels)\n",
    "    \n",
    "    return silhouette_avg\n"
   ]
  },
  {
   "cell_type": "markdown",
   "id": "fe7cfa4f",
   "metadata": {},
   "source": [
    "## 1. Load data (2 marks)\n",
    "\n",
    "For this assignment, we will use the dataset found below:\n",
    "\n",
    "https://archive.ics.uci.edu/ml/datasets/Chemical+Composition+of+Ceramic+Samples"
   ]
  },
  {
   "cell_type": "code",
   "execution_count": 25,
   "id": "474481f1",
   "metadata": {},
   "outputs": [
    {
     "name": "stdout",
     "output_type": "stream",
     "text": [
      "  Ceramic Name  Part  Na2O   MgO  Al2O3   SiO2   K2O   CaO  TiO2  Fe2O3  MnO  \\\n",
      "0      FLQ-1-b  Body  0.62  0.38  19.61  71.99  4.84  0.31  0.07   1.18  630   \n",
      "1      FLQ-2-b  Body  0.57  0.47  21.19  70.09  4.98  0.49  0.09   1.12  380   \n",
      "2      FLQ-3-b  Body  0.49  0.19  18.60  74.70  3.47  0.43  0.06   1.07  420   \n",
      "3      FLQ-4-b  Body  0.89  0.30  18.01  74.19  4.01  0.27  0.09   1.23  460   \n",
      "4      FLQ-5-b  Body  0.03  0.36  18.41  73.99  4.33  0.65  0.05   1.19  380   \n",
      "\n",
      "   CuO  ZnO  PbO2  Rb2O  SrO  Y2O3  ZrO2  P2O5  \n",
      "0   10   70    10   430    0    40    80    90  \n",
      "1   20   80    40   430  -10    40   100   110  \n",
      "2   20   50    50   380   40    40    80   200  \n",
      "3   20   70    60   380   10    40    70   210  \n",
      "4   40   90    40   360   10    30    80   150  \n"
     ]
    }
   ],
   "source": [
    "import pandas as pd\n",
    "\n",
    "# Load the dataset into a pandas dataframe\n",
    "df = pd.read_csv('Chemical Composion of Ceramic.csv')\n",
    "\n",
    "# Print the first few rows of the dataframe\n",
    "print(df.head())\n"
   ]
  },
  {
   "cell_type": "markdown",
   "id": "f908b657",
   "metadata": {},
   "source": [
    "Two of the columns are non-numeric. For this assignment, we will remove those two columns and focus on clustering the ceramic samples based on the numerical measurements"
   ]
  },
  {
   "cell_type": "code",
   "execution_count": 26,
   "id": "e2efda0e",
   "metadata": {},
   "outputs": [
    {
     "name": "stdout",
     "output_type": "stream",
     "text": [
      "   Na2O   MgO  Al2O3   SiO2   K2O   CaO  TiO2  Fe2O3  MnO  CuO  ZnO  PbO2  \\\n",
      "0  0.62  0.38  19.61  71.99  4.84  0.31  0.07   1.18  630   10   70    10   \n",
      "1  0.57  0.47  21.19  70.09  4.98  0.49  0.09   1.12  380   20   80    40   \n",
      "2  0.49  0.19  18.60  74.70  3.47  0.43  0.06   1.07  420   20   50    50   \n",
      "3  0.89  0.30  18.01  74.19  4.01  0.27  0.09   1.23  460   20   70    60   \n",
      "4  0.03  0.36  18.41  73.99  4.33  0.65  0.05   1.19  380   40   90    40   \n",
      "\n",
      "   Rb2O  SrO  Y2O3  ZrO2  P2O5  \n",
      "0   430    0    40    80    90  \n",
      "1   430  -10    40   100   110  \n",
      "2   380   40    40    80   200  \n",
      "3   380   10    40    70   210  \n",
      "4   360   10    30    80   150  \n"
     ]
    }
   ],
   "source": [
    "# Remove non-numeric columns\n",
    "df = df.drop(columns=['Ceramic Name', 'Part'])\n",
    "\n",
    "# Print the first few rows of the updated dataframe\n",
    "print(df.head())"
   ]
  },
  {
   "cell_type": "markdown",
   "id": "3bf578b1",
   "metadata": {},
   "source": [
    "## 2. Implement clustering (8 marks)"
   ]
  },
  {
   "cell_type": "markdown",
   "id": "980c62e1",
   "metadata": {},
   "source": [
    "### 2.1 Cluster using raw data (1 mark)\n",
    "\n",
    "Implement Kmeans clustering using the raw data. Compare the silhouette scores using 2, 3, 4, 5 and 6 clusters"
   ]
  },
  {
   "cell_type": "code",
   "execution_count": 56,
   "id": "5f85da0b",
   "metadata": {},
   "outputs": [],
   "source": [
    "# Implement clustering with raw data using cluster_fn above\n",
    "\n",
    "# Try clustering with 2, 3, 4, 5, and 6 clusters\n",
    "for n_clusters in range(2, 7):\n",
    "    score = cluster_fn(n_clusters, df)\n",
    "    scores_df = pd.concat([scores_df, pd.DataFrame({'Num Clusters': [n_clusters], 'Silhouette Score': [score]})], ignore_index=True)\n"
   ]
  },
  {
   "cell_type": "markdown",
   "id": "48df428e",
   "metadata": {},
   "source": [
    "### 2.2 Cluster using PCA-transformed data (2 marks)\n",
    "\n",
    "Implement Kmeans clustering using the PCA-transformed data. Compare the silhouette scores using 2, 3, 4, 5 and 6 clusters and 2, 3, 4, 5 and 6 principle components "
   ]
  },
  {
   "cell_type": "code",
   "execution_count": 57,
   "id": "de0a5d80",
   "metadata": {},
   "outputs": [],
   "source": [
    "# Implement clustering with PCA-transformed data using cluster_fn above\n",
    "\n",
    "# Initialize a list to hold the silhouette scores\n",
    "scores = []\n",
    "\n",
    "# Try clustering with 2, 3, 4, 5, and 6 clusters and 2, 3, 4, 5, and 6 principle components\n",
    "for n_clusters in range(2, 7):\n",
    "    for n_components in range(2, 7):\n",
    "        score = cluster_fn(n_clusters, df, n_components)\n",
    "        scores.append({'Num Clusters': n_clusters, 'Num Components': n_components, 'Silhouette Score': score})\n"
   ]
  },
  {
   "cell_type": "markdown",
   "id": "50eb5219",
   "metadata": {},
   "source": [
    "### 2.3 Display results (2 marks)\n",
    "\n",
    "Print the results for 2.1 and 2.2 in a table. Include column and row labels"
   ]
  },
  {
   "cell_type": "code",
   "execution_count": 58,
   "id": "9ae81ac6",
   "metadata": {},
   "outputs": [
    {
     "name": "stdout",
     "output_type": "stream",
     "text": [
      "2.1 Results:\n",
      "Silhouette Scores for KMeans Clustering\n"
     ]
    },
    {
     "data": {
      "text/html": [
       "<style type=\"text/css\">\n",
       "</style>\n",
       "<table id=\"T_d332c\">\n",
       "  <thead>\n",
       "    <tr>\n",
       "      <th class=\"blank level0\" >&nbsp;</th>\n",
       "      <th id=\"T_d332c_level0_col0\" class=\"col_heading level0 col0\" >Silhouette Score</th>\n",
       "    </tr>\n",
       "    <tr>\n",
       "      <th class=\"index_name level0\" >Num Clusters</th>\n",
       "      <th class=\"blank col0\" >&nbsp;</th>\n",
       "    </tr>\n",
       "  </thead>\n",
       "  <tbody>\n",
       "    <tr>\n",
       "      <th id=\"T_d332c_level0_row0\" class=\"row_heading level0 row0\" >2</th>\n",
       "      <td id=\"T_d332c_row0_col0\" class=\"data row0 col0\" >0.58</td>\n",
       "    </tr>\n",
       "    <tr>\n",
       "      <th id=\"T_d332c_level0_row1\" class=\"row_heading level0 row1\" >3</th>\n",
       "      <td id=\"T_d332c_row1_col0\" class=\"data row1 col0\" >0.55</td>\n",
       "    </tr>\n",
       "    <tr>\n",
       "      <th id=\"T_d332c_level0_row2\" class=\"row_heading level0 row2\" >4</th>\n",
       "      <td id=\"T_d332c_row2_col0\" class=\"data row2 col0\" >0.54</td>\n",
       "    </tr>\n",
       "    <tr>\n",
       "      <th id=\"T_d332c_level0_row3\" class=\"row_heading level0 row3\" >5</th>\n",
       "      <td id=\"T_d332c_row3_col0\" class=\"data row3 col0\" >0.50</td>\n",
       "    </tr>\n",
       "    <tr>\n",
       "      <th id=\"T_d332c_level0_row4\" class=\"row_heading level0 row4\" >6</th>\n",
       "      <td id=\"T_d332c_row4_col0\" class=\"data row4 col0\" >0.50</td>\n",
       "    </tr>\n",
       "  </tbody>\n",
       "</table>\n"
      ],
      "text/plain": [
       "<pandas.io.formats.style.Styler at 0x7f89e8058880>"
      ]
     },
     "metadata": {},
     "output_type": "display_data"
    },
    {
     "name": "stdout",
     "output_type": "stream",
     "text": [
      "\n",
      "2.2 Results:\n",
      "Silhouette Scores for KMeans Clustering with PCA-transformed Data\n"
     ]
    },
    {
     "data": {
      "text/html": [
       "<style type=\"text/css\">\n",
       "</style>\n",
       "<table id=\"T_e7f63\">\n",
       "  <thead>\n",
       "    <tr>\n",
       "      <th class=\"index_name level0\" >Num Components</th>\n",
       "      <th id=\"T_e7f63_level0_col0\" class=\"col_heading level0 col0\" >2</th>\n",
       "      <th id=\"T_e7f63_level0_col1\" class=\"col_heading level0 col1\" >3</th>\n",
       "      <th id=\"T_e7f63_level0_col2\" class=\"col_heading level0 col2\" >4</th>\n",
       "      <th id=\"T_e7f63_level0_col3\" class=\"col_heading level0 col3\" >5</th>\n",
       "      <th id=\"T_e7f63_level0_col4\" class=\"col_heading level0 col4\" >6</th>\n",
       "    </tr>\n",
       "    <tr>\n",
       "      <th class=\"index_name level0\" >Num Clusters</th>\n",
       "      <th class=\"blank col0\" >&nbsp;</th>\n",
       "      <th class=\"blank col1\" >&nbsp;</th>\n",
       "      <th class=\"blank col2\" >&nbsp;</th>\n",
       "      <th class=\"blank col3\" >&nbsp;</th>\n",
       "      <th class=\"blank col4\" >&nbsp;</th>\n",
       "    </tr>\n",
       "  </thead>\n",
       "  <tbody>\n",
       "    <tr>\n",
       "      <th id=\"T_e7f63_level0_row0\" class=\"row_heading level0 row0\" >2</th>\n",
       "      <td id=\"T_e7f63_row0_col0\" class=\"data row0 col0\" >0.62</td>\n",
       "      <td id=\"T_e7f63_row0_col1\" class=\"data row0 col1\" >0.60</td>\n",
       "      <td id=\"T_e7f63_row0_col2\" class=\"data row0 col2\" >0.59</td>\n",
       "      <td id=\"T_e7f63_row0_col3\" class=\"data row0 col3\" >0.59</td>\n",
       "      <td id=\"T_e7f63_row0_col4\" class=\"data row0 col4\" >0.59</td>\n",
       "    </tr>\n",
       "    <tr>\n",
       "      <th id=\"T_e7f63_level0_row1\" class=\"row_heading level0 row1\" >3</th>\n",
       "      <td id=\"T_e7f63_row1_col0\" class=\"data row1 col0\" >0.61</td>\n",
       "      <td id=\"T_e7f63_row1_col1\" class=\"data row1 col1\" >0.59</td>\n",
       "      <td id=\"T_e7f63_row1_col2\" class=\"data row1 col2\" >0.57</td>\n",
       "      <td id=\"T_e7f63_row1_col3\" class=\"data row1 col3\" >0.57</td>\n",
       "      <td id=\"T_e7f63_row1_col4\" class=\"data row1 col4\" >0.56</td>\n",
       "    </tr>\n",
       "    <tr>\n",
       "      <th id=\"T_e7f63_level0_row2\" class=\"row_heading level0 row2\" >4</th>\n",
       "      <td id=\"T_e7f63_row2_col0\" class=\"data row2 col0\" >0.60</td>\n",
       "      <td id=\"T_e7f63_row2_col1\" class=\"data row2 col1\" >0.57</td>\n",
       "      <td id=\"T_e7f63_row2_col2\" class=\"data row2 col2\" >0.55</td>\n",
       "      <td id=\"T_e7f63_row2_col3\" class=\"data row2 col3\" >0.55</td>\n",
       "      <td id=\"T_e7f63_row2_col4\" class=\"data row2 col4\" >0.55</td>\n",
       "    </tr>\n",
       "    <tr>\n",
       "      <th id=\"T_e7f63_level0_row3\" class=\"row_heading level0 row3\" >5</th>\n",
       "      <td id=\"T_e7f63_row3_col0\" class=\"data row3 col0\" >0.57</td>\n",
       "      <td id=\"T_e7f63_row3_col1\" class=\"data row3 col1\" >0.55</td>\n",
       "      <td id=\"T_e7f63_row3_col2\" class=\"data row3 col2\" >0.52</td>\n",
       "      <td id=\"T_e7f63_row3_col3\" class=\"data row3 col3\" >0.52</td>\n",
       "      <td id=\"T_e7f63_row3_col4\" class=\"data row3 col4\" >0.51</td>\n",
       "    </tr>\n",
       "    <tr>\n",
       "      <th id=\"T_e7f63_level0_row4\" class=\"row_heading level0 row4\" >6</th>\n",
       "      <td id=\"T_e7f63_row4_col0\" class=\"data row4 col0\" >0.57</td>\n",
       "      <td id=\"T_e7f63_row4_col1\" class=\"data row4 col1\" >0.55</td>\n",
       "      <td id=\"T_e7f63_row4_col2\" class=\"data row4 col2\" >0.53</td>\n",
       "      <td id=\"T_e7f63_row4_col3\" class=\"data row4 col3\" >0.52</td>\n",
       "      <td id=\"T_e7f63_row4_col4\" class=\"data row4 col4\" >0.52</td>\n",
       "    </tr>\n",
       "  </tbody>\n",
       "</table>\n"
      ],
      "text/plain": [
       "<pandas.io.formats.style.Styler at 0x7f89e8063190>"
      ]
     },
     "metadata": {},
     "output_type": "display_data"
    }
   ],
   "source": [
    "# Display results\n",
    "\n",
    "# For 2.1 Results:\n",
    "# Pivot the dataframe to create a table of the results\n",
    "table = scores_df.pivot_table(index='Num Clusters', values='Silhouette Score')\n",
    "\n",
    "# Format the table with two decimal places for the silhouette scores\n",
    "styled_table = (table.style\n",
    "                .format({'Silhouette Score': '{:.2f}'}))\n",
    "\n",
    "# Add the caption to the table\n",
    "caption = 'Silhouette Scores for KMeans Clustering'\n",
    "print(\"2.1 Results:\\n\"+caption)\n",
    "\n",
    "# Display the table\n",
    "display(styled_table)\n",
    "\n",
    "# For 2.2 Results:\n",
    "# Create a pandas DataFrame from the scores list\n",
    "scores_df = pd.DataFrame(scores)\n",
    "\n",
    "# Pivot the dataframe to create a table of the results\n",
    "table = scores_df.pivot_table(index='Num Clusters', columns='Num Components', values='Silhouette Score')\n",
    "\n",
    "# Format the silhouette scores with two decimal places\n",
    "styled_table = table.style.format('{:.2f}')\n",
    "\n",
    "# Add the caption to the table\n",
    "caption = 'Silhouette Scores for KMeans Clustering with PCA-transformed Data'\n",
    "print(\"\\n2.2 Results:\\n\"+caption)\n",
    "\n",
    "# Display the table\n",
    "display(styled_table)\n"
   ]
  },
  {
   "cell_type": "markdown",
   "id": "e1086de9",
   "metadata": {},
   "source": [
    "**Question**: Which combination of number of clusters and number of components produced the best results? What is the silhouette score for this combination? **(3 marks)**\n",
    "\n",
    "**2 principal components** with **2 clusters produced** the best result with a silhouette score of **0.62**"
   ]
  },
  {
   "cell_type": "markdown",
   "id": "6e64bf4a",
   "metadata": {},
   "source": [
    "## 3. Improve results (Bonus - 3 marks)\n",
    "\n",
    "Think about how you could improve the results from the previous section. Two potential methods include preprocessing the data or selecting a different clustering algorithm. Repeat section 2 with your selected improvement method to determine what the new silhouette scores would be"
   ]
  },
  {
   "cell_type": "code",
   "execution_count": null,
   "id": "3a8a9432",
   "metadata": {},
   "outputs": [],
   "source": [
    "# TODO: Repeat steps 2.1-2.3 using a different method/preprocessing/etc."
   ]
  },
  {
   "cell_type": "code",
   "execution_count": 108,
   "id": "a6d3af8a",
   "metadata": {},
   "outputs": [],
   "source": [
    "import numpy as np\n",
    "from sklearn.cluster import AgglomerativeClustering\n",
    "from sklearn.decomposition import PCA\n",
    "from sklearn.metrics import silhouette_score\n",
    "\n",
    "def cluster_fn(n_clusters, X, n_components=0):\n",
    "    '''Calculate silhouette score for a given dataset, number of clusters, \n",
    "       and number of principle components using agglomerative clustering without scaling\n",
    "        \n",
    "        n_clusters (int): number of clusters to use for agglomerative clustering\n",
    "        X (numpy.array or pandas.DataFrame): unlabelled dataset\n",
    "        n_components (int): number of principle components (optional)\n",
    "        \n",
    "        returns: silhouette score\n",
    "    \n",
    "    '''\n",
    "    # Apply PCA if number of components is specified\n",
    "    if n_components > 0:\n",
    "        pca = PCA(n_components=n_components)\n",
    "        X = pca.fit_transform(X)\n",
    "\n",
    "    # Apply agglomerative clustering\n",
    "    agglom = AgglomerativeClustering(n_clusters=n_clusters)\n",
    "    cluster_labels = agglom.fit_predict(X)\n",
    "    \n",
    "    # Calculate silhouette score\n",
    "    silhouette_avg = silhouette_score(X, cluster_labels)\n",
    "    \n",
    "    return silhouette_avg\n"
   ]
  },
  {
   "cell_type": "code",
   "execution_count": 109,
   "id": "2082924c",
   "metadata": {},
   "outputs": [],
   "source": [
    "# Implement clustering with raw data using cluster_fn above\n",
    "\n",
    "# Try clustering with 2, 3, 4, 5, and 6 clusters\n",
    "for n_clusters in range(2, 7):\n",
    "    score = cluster_fn(n_clusters, df)\n",
    "    scores_df = pd.concat([scores_df, pd.DataFrame({'Num Clusters': [n_clusters], 'Silhouette Score': [score]})], ignore_index=True)\n"
   ]
  },
  {
   "cell_type": "code",
   "execution_count": 110,
   "id": "bd40c7a6",
   "metadata": {},
   "outputs": [],
   "source": [
    "# Implement clustering with PCA-transformed data using cluster_fn above\n",
    "\n",
    "# Initialize a list to hold the silhouette scores\n",
    "scores = []\n",
    "\n",
    "# Try clustering with 2, 3, 4, 5, and 6 clusters and 2, 3, 4, 5, and 6 principle components\n",
    "for n_clusters in range(2, 7):\n",
    "    for n_components in range(2, 7):\n",
    "        score = cluster_fn(n_clusters, df, n_components)\n",
    "        scores.append({'Num Clusters': n_clusters, 'Num Components': n_components, 'Silhouette Score': score})\n"
   ]
  },
  {
   "cell_type": "code",
   "execution_count": 112,
   "id": "520f0833",
   "metadata": {},
   "outputs": [
    {
     "name": "stdout",
     "output_type": "stream",
     "text": [
      "2.1 Results:\n",
      "Silhouette Scores for Agglomerative Clustering\n"
     ]
    },
    {
     "data": {
      "text/html": [
       "<style type=\"text/css\">\n",
       "</style>\n",
       "<table id=\"T_4951c\">\n",
       "  <thead>\n",
       "    <tr>\n",
       "      <th class=\"blank level0\" >&nbsp;</th>\n",
       "      <th id=\"T_4951c_level0_col0\" class=\"col_heading level0 col0\" >Silhouette Score</th>\n",
       "    </tr>\n",
       "    <tr>\n",
       "      <th class=\"index_name level0\" >Num Clusters</th>\n",
       "      <th class=\"blank col0\" >&nbsp;</th>\n",
       "    </tr>\n",
       "  </thead>\n",
       "  <tbody>\n",
       "    <tr>\n",
       "      <th id=\"T_4951c_level0_row0\" class=\"row_heading level0 row0\" >2</th>\n",
       "      <td id=\"T_4951c_row0_col0\" class=\"data row0 col0\" >0.58</td>\n",
       "    </tr>\n",
       "    <tr>\n",
       "      <th id=\"T_4951c_level0_row1\" class=\"row_heading level0 row1\" >3</th>\n",
       "      <td id=\"T_4951c_row1_col0\" class=\"data row1 col0\" >0.56</td>\n",
       "    </tr>\n",
       "    <tr>\n",
       "      <th id=\"T_4951c_level0_row2\" class=\"row_heading level0 row2\" >4</th>\n",
       "      <td id=\"T_4951c_row2_col0\" class=\"data row2 col0\" >0.55</td>\n",
       "    </tr>\n",
       "    <tr>\n",
       "      <th id=\"T_4951c_level0_row3\" class=\"row_heading level0 row3\" >5</th>\n",
       "      <td id=\"T_4951c_row3_col0\" class=\"data row3 col0\" >0.51</td>\n",
       "    </tr>\n",
       "    <tr>\n",
       "      <th id=\"T_4951c_level0_row4\" class=\"row_heading level0 row4\" >6</th>\n",
       "      <td id=\"T_4951c_row4_col0\" class=\"data row4 col0\" >0.52</td>\n",
       "    </tr>\n",
       "  </tbody>\n",
       "</table>\n"
      ],
      "text/plain": [
       "<pandas.io.formats.style.Styler at 0x7f89f87a4460>"
      ]
     },
     "metadata": {},
     "output_type": "display_data"
    },
    {
     "name": "stdout",
     "output_type": "stream",
     "text": [
      "\n",
      "2.2 Results:\n",
      "Silhouette Scores for Agglomerative Clustering with PCA-transformed Data\n"
     ]
    },
    {
     "data": {
      "text/html": [
       "<style type=\"text/css\">\n",
       "</style>\n",
       "<table id=\"T_15d9e\">\n",
       "  <thead>\n",
       "    <tr>\n",
       "      <th class=\"index_name level0\" >Num Components</th>\n",
       "      <th id=\"T_15d9e_level0_col0\" class=\"col_heading level0 col0\" >2</th>\n",
       "      <th id=\"T_15d9e_level0_col1\" class=\"col_heading level0 col1\" >3</th>\n",
       "      <th id=\"T_15d9e_level0_col2\" class=\"col_heading level0 col2\" >4</th>\n",
       "      <th id=\"T_15d9e_level0_col3\" class=\"col_heading level0 col3\" >5</th>\n",
       "      <th id=\"T_15d9e_level0_col4\" class=\"col_heading level0 col4\" >6</th>\n",
       "    </tr>\n",
       "    <tr>\n",
       "      <th class=\"index_name level0\" >Num Clusters</th>\n",
       "      <th class=\"blank col0\" >&nbsp;</th>\n",
       "      <th class=\"blank col1\" >&nbsp;</th>\n",
       "      <th class=\"blank col2\" >&nbsp;</th>\n",
       "      <th class=\"blank col3\" >&nbsp;</th>\n",
       "      <th class=\"blank col4\" >&nbsp;</th>\n",
       "    </tr>\n",
       "  </thead>\n",
       "  <tbody>\n",
       "    <tr>\n",
       "      <th id=\"T_15d9e_level0_row0\" class=\"row_heading level0 row0\" >2</th>\n",
       "      <td id=\"T_15d9e_row0_col0\" class=\"data row0 col0\" >0.60</td>\n",
       "      <td id=\"T_15d9e_row0_col1\" class=\"data row0 col1\" >0.59</td>\n",
       "      <td id=\"T_15d9e_row0_col2\" class=\"data row0 col2\" >0.58</td>\n",
       "      <td id=\"T_15d9e_row0_col3\" class=\"data row0 col3\" >0.58</td>\n",
       "      <td id=\"T_15d9e_row0_col4\" class=\"data row0 col4\" >0.58</td>\n",
       "    </tr>\n",
       "    <tr>\n",
       "      <th id=\"T_15d9e_level0_row1\" class=\"row_heading level0 row1\" >3</th>\n",
       "      <td id=\"T_15d9e_row1_col0\" class=\"data row1 col0\" >0.60</td>\n",
       "      <td id=\"T_15d9e_row1_col1\" class=\"data row1 col1\" >0.57</td>\n",
       "      <td id=\"T_15d9e_row1_col2\" class=\"data row1 col2\" >0.55</td>\n",
       "      <td id=\"T_15d9e_row1_col3\" class=\"data row1 col3\" >0.55</td>\n",
       "      <td id=\"T_15d9e_row1_col4\" class=\"data row1 col4\" >0.54</td>\n",
       "    </tr>\n",
       "    <tr>\n",
       "      <th id=\"T_15d9e_level0_row2\" class=\"row_heading level0 row2\" >4</th>\n",
       "      <td id=\"T_15d9e_row2_col0\" class=\"data row2 col0\" >0.58</td>\n",
       "      <td id=\"T_15d9e_row2_col1\" class=\"data row2 col1\" >0.56</td>\n",
       "      <td id=\"T_15d9e_row2_col2\" class=\"data row2 col2\" >0.54</td>\n",
       "      <td id=\"T_15d9e_row2_col3\" class=\"data row2 col3\" >0.54</td>\n",
       "      <td id=\"T_15d9e_row2_col4\" class=\"data row2 col4\" >0.53</td>\n",
       "    </tr>\n",
       "    <tr>\n",
       "      <th id=\"T_15d9e_level0_row3\" class=\"row_heading level0 row3\" >5</th>\n",
       "      <td id=\"T_15d9e_row3_col0\" class=\"data row3 col0\" >0.55</td>\n",
       "      <td id=\"T_15d9e_row3_col1\" class=\"data row3 col1\" >0.52</td>\n",
       "      <td id=\"T_15d9e_row3_col2\" class=\"data row3 col2\" >0.50</td>\n",
       "      <td id=\"T_15d9e_row3_col3\" class=\"data row3 col3\" >0.49</td>\n",
       "      <td id=\"T_15d9e_row3_col4\" class=\"data row3 col4\" >0.49</td>\n",
       "    </tr>\n",
       "    <tr>\n",
       "      <th id=\"T_15d9e_level0_row4\" class=\"row_heading level0 row4\" >6</th>\n",
       "      <td id=\"T_15d9e_row4_col0\" class=\"data row4 col0\" >0.56</td>\n",
       "      <td id=\"T_15d9e_row4_col1\" class=\"data row4 col1\" >0.53</td>\n",
       "      <td id=\"T_15d9e_row4_col2\" class=\"data row4 col2\" >0.51</td>\n",
       "      <td id=\"T_15d9e_row4_col3\" class=\"data row4 col3\" >0.50</td>\n",
       "      <td id=\"T_15d9e_row4_col4\" class=\"data row4 col4\" >0.50</td>\n",
       "    </tr>\n",
       "  </tbody>\n",
       "</table>\n"
      ],
      "text/plain": [
       "<pandas.io.formats.style.Styler at 0x7f89e80653d0>"
      ]
     },
     "metadata": {},
     "output_type": "display_data"
    }
   ],
   "source": [
    "# Display results\n",
    "\n",
    "# For 2.1 Results:\n",
    "# Pivot the dataframe to create a table of the results\n",
    "table = scores_df.pivot_table(index='Num Clusters', values='Silhouette Score')\n",
    "\n",
    "# Format the table with two decimal places for the silhouette scores\n",
    "styled_table = (table.style\n",
    "                .format({'Silhouette Score': '{:.2f}'}))\n",
    "\n",
    "# Add the caption to the table\n",
    "caption = 'Silhouette Scores for Agglomerative Clustering'\n",
    "print(\"2.1 Results:\\n\"+caption)\n",
    "\n",
    "# Display the table\n",
    "display(styled_table)\n",
    "\n",
    "# For 2.2 Results:\n",
    "# Create a pandas DataFrame from the scores list\n",
    "scores_df = pd.DataFrame(scores)\n",
    "\n",
    "# Pivot the dataframe to create a table of the results\n",
    "table = scores_df.pivot_table(index='Num Clusters', columns='Num Components', values='Silhouette Score')\n",
    "\n",
    "# Format the silhouette scores with two decimal places\n",
    "styled_table = table.style.format('{:.2f}')\n",
    "\n",
    "# Add the caption to the table\n",
    "caption = 'Silhouette Scores for Agglomerative Clustering with PCA-transformed Data'\n",
    "print(\"\\n2.2 Results:\\n\"+caption)\n",
    "\n",
    "# Display the table\n",
    "display(styled_table)\n"
   ]
  },
  {
   "cell_type": "markdown",
   "id": "ae4193d4",
   "metadata": {},
   "source": [
    "**Question**: Why did you select this improvement method? Which combination of number of clusters and number of components produced the best results? Did you improve the silhouette scores? If yes, how much of an improvement did you get over the previous results?\n",
    "\n",
    "I selected agglomerative clustering as a potential improvement over KMeans clustering because agglomerative clustering is better suited for small datasets, and has better robustness to outliers. The best results were found with the following cominations: Num Components = 2, Num Clusters = 2 and Num Components = 2, Num Clusters = 3 at silhoutette scores of 0.60. The silhouette scores did not improve over KMeans clustering, indicating that our dataset is more convex, and thus KMeans clustering is more efficient."
   ]
  }
 ],
 "metadata": {
  "kernelspec": {
   "display_name": "Python 3 (ipykernel)",
   "language": "python",
   "name": "python3"
  },
  "language_info": {
   "codemirror_mode": {
    "name": "ipython",
    "version": 3
   },
   "file_extension": ".py",
   "mimetype": "text/x-python",
   "name": "python",
   "nbconvert_exporter": "python",
   "pygments_lexer": "ipython3",
   "version": "3.9.16"
  }
 },
 "nbformat": 4,
 "nbformat_minor": 5
}
